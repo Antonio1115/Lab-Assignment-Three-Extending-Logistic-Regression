{
  "cells": [
    {
      "cell_type": "markdown",
      "metadata": {
        "id": "SCdz60qQlWzF"
      },
      "source": [
        "# Preparation and Overview"
      ]
    },
    {
      "cell_type": "markdown",
      "metadata": {
        "id": "FNJiHvnJkni8"
      },
      "source": [
        "## 1. Business Understanding  \n",
        "The **New York City Airbnb Dataset** is used to predict the price of Airbnb listings based on various features such as location, property type, host information, and amenities. This dataset provides insights into the factors that influence pricing in the competitive New York City rental market. The prediction can be used by hosts to optimize their pricing strategies, by travelers to find affordable accommodations, and by platforms like Airbnb to improve pricing recommendations.\n",
        "\n",
        "The dataset includes over 1,000 observations and 26 features, with a mix of categorical and numerical data. These features include neighborhood, host identity, property type, minimum nights, and more. By analyzing this dataset, we can gain insights into which factors significantly impact the price of an Airbnb listing.\n",
        "\n",
        "**Prediction Task:**  \n",
        "The primary prediction task is to estimate the price of an Airbnb listing based on its attributes. This is a regression problem, where the target variable is the listing price.\n",
        "\n",
        "**Business Value:**  \n",
        "- **Hosts:** Hosts can use this analysis to set competitive prices based on similar listings in their area, maximizing their revenue while remaining attractive to travelers.  \n",
        "- **Travelers:** Travelers can benefit from understanding pricing trends to find affordable accommodations in their desired neighborhoods.  \n",
        "- **Airbnb Platform:** Airbnb can leverage this analysis to improve its pricing algorithms and provide better recommendations to both hosts and guests.  \n",
        "\n",
        "**Expected Outcome:**  \n",
        "The performance of the prediction algorithm would need to be accurate enough to provide reliable price estimates. A useful model would help hosts optimize their pricing strategies and assist travelers in making informed decisions. Based on prior research, a model with a low mean absolute error (MAE) or root mean squared error (RMSE) would be considered valuable for this type of regression task.\n",
        "\n",
        "---\n",
        "\n",
        "Dataset: New York City Airbnb Dataset  \n",
        "**URL:** https://www.kaggle.com/datasets/arianazmoudeh/airbnbopendata/data  \n",
        "\n"
      ]
    },
    {
      "cell_type": "code",
      "execution_count": 121,
      "metadata": {
        "colab": {
          "base_uri": "https://localhost:8080/"
        },
        "id": "Ot4bdBOScigm",
        "outputId": "46e02b3d-2fdc-4753-b916-bdba2c8594e0"
      },
      "outputs": [
        {
          "output_type": "stream",
          "name": "stdout",
          "text": [
            "Drive already mounted at /content/drive; to attempt to forcibly remount, call drive.mount(\"/content/drive\", force_remount=True).\n",
            "        id                                              NAME      host id  \\\n",
            "0  1001254                Clean & quiet apt home by the park  80014485718   \n",
            "1  1002102                             Skylit Midtown Castle  52335172823   \n",
            "2  1002403               THE VILLAGE OF HARLEM....NEW YORK !  78829239556   \n",
            "3  1002755                                               NaN  85098326012   \n",
            "4  1003689  Entire Apt: Spacious Studio/Loft by central park  92037596077   \n",
            "\n",
            "  host_identity_verified host name neighbourhood group neighbourhood  \\\n",
            "0            unconfirmed  Madaline            Brooklyn    Kensington   \n",
            "1               verified     Jenna           Manhattan       Midtown   \n",
            "2                    NaN     Elise           Manhattan        Harlem   \n",
            "3            unconfirmed     Garry            Brooklyn  Clinton Hill   \n",
            "4               verified    Lyndon           Manhattan   East Harlem   \n",
            "\n",
            "        lat      long        country  ... service fee minimum nights  \\\n",
            "0  40.64749 -73.97237  United States  ...       $193            10.0   \n",
            "1  40.75362 -73.98377  United States  ...        $28            30.0   \n",
            "2  40.80902 -73.94190  United States  ...       $124             3.0   \n",
            "3  40.68514 -73.95976  United States  ...        $74            30.0   \n",
            "4  40.79851 -73.94399  United States  ...        $41            10.0   \n",
            "\n",
            "  number of reviews last review  reviews per month review rate number  \\\n",
            "0               9.0  10/19/2021               0.21                4.0   \n",
            "1              45.0   5/21/2022               0.38                4.0   \n",
            "2               0.0         NaN                NaN                5.0   \n",
            "3             270.0    7/5/2019               4.64                4.0   \n",
            "4               9.0  11/19/2018               0.10                3.0   \n",
            "\n",
            "  calculated host listings count  availability 365  \\\n",
            "0                            6.0             286.0   \n",
            "1                            2.0             228.0   \n",
            "2                            1.0             352.0   \n",
            "3                            1.0             322.0   \n",
            "4                            1.0             289.0   \n",
            "\n",
            "                                         house_rules license  \n",
            "0  Clean up and treat the home the way you'd like...     NaN  \n",
            "1  Pet friendly but please confirm with me if the...     NaN  \n",
            "2  I encourage you to use my kitchen, cooking and...     NaN  \n",
            "3                                                NaN     NaN  \n",
            "4  Please no smoking in the house, porch or on th...     NaN  \n",
            "\n",
            "[5 rows x 26 columns]\n"
          ]
        }
      ],
      "source": [
        "from google.colab import drive\n",
        "import pandas as pd\n",
        "import numpy as np\n",
        "import warnings\n",
        "\n",
        "# Mount Google Drive\n",
        "drive.mount('/content/drive')\n",
        "\n",
        "# Specify the correct path to your CSV file\n",
        "file_path = '/content/drive/My Drive/Airbnb_Open_Data.csv'\n",
        "# Read the CSV file directly from Google Drive\n",
        "df = pd.read_csv(file_path, low_memory=False)\n",
        "\n",
        "\n",
        "# Display the first few rows of the CSV file\n",
        "print(df.head())\n"
      ]
    },
    {
      "cell_type": "code",
      "execution_count": 122,
      "metadata": {
        "colab": {
          "base_uri": "https://localhost:8080/"
        },
        "id": "UfNfuTgSCmjY",
        "outputId": "385f6a7f-b36d-45f3-e083-6cb3a18f0215"
      },
      "outputs": [
        {
          "output_type": "stream",
          "name": "stdout",
          "text": [
            "Missing Values:\n",
            "NAME                                 250\n",
            "host_identity_verified               289\n",
            "host name                            406\n",
            "neighbourhood group                   29\n",
            "neighbourhood                         16\n",
            "lat                                    8\n",
            "long                                   8\n",
            "country                              532\n",
            "country code                         131\n",
            "instant_bookable                     105\n",
            "cancellation_policy                   76\n",
            "Construction year                    214\n",
            "price                                247\n",
            "service fee                          273\n",
            "minimum nights                       409\n",
            "number of reviews                    183\n",
            "last review                        15893\n",
            "reviews per month                  15879\n",
            "review rate number                   326\n",
            "calculated host listings count       319\n",
            "availability 365                     448\n",
            "house_rules                        52131\n",
            "license                           102597\n",
            "dtype: int64\n"
          ]
        }
      ],
      "source": [
        "# Check for missing values\n",
        "missing_data = df.isnull().sum()\n",
        "print(\"Missing Values:\")\n",
        "print(missing_data[missing_data > 0])"
      ]
    },
    {
      "cell_type": "markdown",
      "metadata": {
        "id": "nKktiURRkj3h"
      },
      "source": [
        "The dataset has quite a few missing values, with some columns like house_rules and license missing over 50,000 entries, so we’ll need to drop those entirely. For the rest, we’ll fill categorical gaps with the most common value and numerical gaps with the median to keep things balanced and accurate."
      ]
    },
    {
      "cell_type": "code",
      "execution_count": 123,
      "metadata": {
        "colab": {
          "base_uri": "https://localhost:8080/"
        },
        "id": "xfj-KZAjEgAo",
        "outputId": "eee8ca03-8ee2-4b07-f1e0-83db98463a36"
      },
      "outputs": [
        {
          "output_type": "stream",
          "name": "stdout",
          "text": [
            "Missing Values after handling:\n",
            "Series([], dtype: int64)\n",
            "price          float64\n",
            "service fee    float64\n",
            "dtype: object\n",
            "        id                                              NAME      host id  \\\n",
            "0  1001254                Clean & quiet apt home by the park  80014485718   \n",
            "1  1002102                             Skylit Midtown Castle  52335172823   \n",
            "2  1002403               THE VILLAGE OF HARLEM....NEW YORK !  78829239556   \n",
            "3  1002755                               Home away from home  85098326012   \n",
            "4  1003689  Entire Apt: Spacious Studio/Loft by central park  92037596077   \n",
            "\n",
            "  host_identity_verified host name neighbourhood group neighbourhood  \\\n",
            "0            unconfirmed  Madaline            Brooklyn    Kensington   \n",
            "1               verified     Jenna           Manhattan       Midtown   \n",
            "2            unconfirmed     Elise           Manhattan        Harlem   \n",
            "3            unconfirmed     Garry            Brooklyn  Clinton Hill   \n",
            "4               verified    Lyndon           Manhattan   East Harlem   \n",
            "\n",
            "        lat      long        country  ... cancellation_policy  \\\n",
            "0  40.64749 -73.97237  United States  ...              strict   \n",
            "1  40.75362 -73.98377  United States  ...            moderate   \n",
            "2  40.80902 -73.94190  United States  ...            flexible   \n",
            "3  40.68514 -73.95976  United States  ...            moderate   \n",
            "4  40.79851 -73.94399  United States  ...            moderate   \n",
            "\n",
            "         room type Construction year  price  service fee  minimum nights  \\\n",
            "0     Private room            2020.0  966.0        193.0            10.0   \n",
            "1  Entire home/apt            2007.0  142.0         28.0            30.0   \n",
            "2     Private room            2005.0  620.0        124.0             3.0   \n",
            "3  Entire home/apt            2005.0  368.0         74.0            30.0   \n",
            "4  Entire home/apt            2009.0  204.0         41.0            10.0   \n",
            "\n",
            "   number of reviews  review rate number  calculated host listings count  \\\n",
            "0                9.0                 4.0                             6.0   \n",
            "1               45.0                 4.0                             2.0   \n",
            "2                0.0                 5.0                             1.0   \n",
            "3              270.0                 4.0                             1.0   \n",
            "4                9.0                 3.0                             1.0   \n",
            "\n",
            "   availability 365  \n",
            "0             286.0  \n",
            "1             228.0  \n",
            "2             352.0  \n",
            "3             322.0  \n",
            "4             289.0  \n",
            "\n",
            "[5 rows x 22 columns]\n"
          ]
        }
      ],
      "source": [
        "# Clean and convert 'price' and 'service fee' columns to numeric\n",
        "df['price'] = df['price'].replace('[\\$,]', '', regex=True).astype(float)\n",
        "df['service fee'] = df['service fee'].replace('[\\$,]', '', regex=True).astype(float)\n",
        "\n",
        "# Handle missing values for categorical features (using mode)\n",
        "categorical_columns = ['NAME', 'host_identity_verified', 'host name', 'neighbourhood group',\n",
        "                       'neighbourhood', 'country', 'country code', 'instant_bookable',\n",
        "                       'cancellation_policy']\n",
        "\n",
        "for col in categorical_columns:\n",
        "    df[col] = df[col].fillna(df[col].mode()[0])\n",
        "\n",
        "# Handle missing values for numerical features (using median)\n",
        "numerical_columns = ['lat', 'long', 'Construction year', 'price', 'service fee',\n",
        "                     'minimum nights', 'number of reviews', 'review rate number',\n",
        "                     'calculated host listings count', 'availability 365']\n",
        "\n",
        "for col in numerical_columns:\n",
        "    df[col] = df[col].fillna(df[col].median())\n",
        "\n",
        "# Fix negative values in 'minimum nights' by replacing them with the median\n",
        "median_min_nights = df['minimum nights'].median()\n",
        "df['minimum nights'] = df['minimum nights'].apply(lambda x: x if x >= 0 else median_min_nights)\n",
        "\n",
        "# Drop columns with excessive missing values\n",
        "df = df.drop(columns=['license', 'house_rules', 'reviews per month', 'last review'])\n",
        "\n",
        "# Check for remaining missing values\n",
        "missing_data = df.isnull().sum()\n",
        "print(\"Missing Values after handling:\")\n",
        "print(missing_data[missing_data > 0])\n",
        "\n",
        "# Check the data types of cleaned columns\n",
        "print(df[['price', 'service fee']].dtypes)\n",
        "\n",
        "# Check the first few rows of the cleaned dataset\n",
        "print(df.head())"
      ]
    },
    {
      "cell_type": "markdown",
      "metadata": {
        "id": "_Ay3LS6Sj15f"
      },
      "source": [
        "Missing values were addressed by filling categorical data with the most frequent value (mode) and numerical data with the middle value (median), ensuring the dataset remained balanced and accurate. Columns with too many missing values were removed to prevent skewing the results. This careful approach kept the dataset reliable and prepared it for deeper analysis. We also removed some negative values seen in minimum nights and replaced them with median values"
      ]
    },
    {
      "cell_type": "code",
      "execution_count": 88,
      "metadata": {
        "colab": {
          "base_uri": "https://localhost:8080/"
        },
        "id": "KYwpXKK0l-DB",
        "outputId": "87e85b8d-0cae-4562-df1b-06ae1cf63d87"
      },
      "outputs": [
        {
          "output_type": "stream",
          "name": "stdout",
          "text": [
            "Number of duplicate rows: 541\n",
            "Number of duplicate rows after removal: 0\n"
          ]
        }
      ],
      "source": [
        "# Check for duplicate rows\n",
        "duplicate_rows = df.duplicated().sum()\n",
        "print(f\"Number of duplicate rows: {duplicate_rows}\")\n",
        "\n",
        "# Remove duplicate rows\n",
        "df = df.drop_duplicates()\n",
        "\n",
        "# Verify that duplicates have been removed\n",
        "duplicate_rows = df.duplicated().sum()\n",
        "print(f\"Number of duplicate rows after removal: {duplicate_rows}\")"
      ]
    },
    {
      "cell_type": "markdown",
      "metadata": {
        "id": "wqZFksa640qj"
      },
      "source": [
        "We found 541 duplicate rows in the dataset and removed them to keep the data clean and accurate for analysis"
      ]
    },
    {
      "cell_type": "code",
      "execution_count": 89,
      "metadata": {
        "colab": {
          "base_uri": "https://localhost:8080/"
        },
        "id": "nUkq7bAp8MZa",
        "outputId": "a26b4ef9-f4d9-48b6-df75-796981b0f62a"
      },
      "outputs": [
        {
          "output_type": "stream",
          "name": "stdout",
          "text": [
            "price_category\n",
            "Medium       25561\n",
            "Low          25498\n",
            "Very High    25497\n",
            "High         25409\n",
            "Name: count, dtype: int64\n",
            "Low: $50.00 - $341.00\n",
            "Medium: $341.00 - $624.00\n",
            "High: $624.00 - $912.00\n",
            "Very High: $912.00 - $1200.00\n"
          ]
        }
      ],
      "source": [
        "# Use percentiles to define the bins\n",
        "price_bins = [df['price'].min(), df['price'].quantile(0.25), df['price'].quantile(0.5), df['price'].quantile(0.75), df['price'].max()]\n",
        "price_labels = ['Low', 'Medium', 'High', 'Very High']\n",
        "\n",
        "# Create the categories\n",
        "df['price_category'] = pd.cut(df['price'], bins=price_bins, labels=price_labels)\n",
        "\n",
        "# Check the distribution\n",
        "print(df['price_category'].value_counts())\n",
        "\n",
        "# Output the price range for each category\n",
        "for i, label in enumerate(price_labels):\n",
        "    lower_bound = price_bins[i]\n",
        "    upper_bound = price_bins[i + 1]\n",
        "    print(f\"{label}: ${lower_bound:.2f} - ${upper_bound:.2f}\")\n"
      ]
    },
    {
      "cell_type": "markdown",
      "metadata": {
        "id": "2TBC3tHD8M1G"
      },
      "source": [
        "We decided to split the price column into 4 classes (Low, Medium, High, Very High) to better analyze and visualize the data, as required by the assignment. Using percentiles ensures the classes are evenly distributed, making the analysis more balanced and insightful."
      ]
    },
    {
      "cell_type": "code",
      "execution_count": 90,
      "metadata": {
        "colab": {
          "base_uri": "https://localhost:8080/",
          "height": 300
        },
        "id": "sRz2qQ4y5RVX",
        "outputId": "fe45aa5b-9387-4e81-de38-b2b1c38d2939"
      },
      "outputs": [
        {
          "output_type": "execute_result",
          "data": {
            "text/plain": [
              "                 id       host id            lat           long  \\\n",
              "count  1.020580e+05  1.020580e+05  102058.000000  102058.000000   \n",
              "mean   2.918438e+07  4.926738e+10      40.728097     -73.949653   \n",
              "std    1.627173e+07  2.853742e+10       0.055850       0.049500   \n",
              "min    1.001254e+06  1.236005e+08      40.499790     -74.249840   \n",
              "25%    1.509286e+07  2.459924e+10      40.688730     -73.982580   \n",
              "50%    2.918438e+07  4.912865e+10      40.722290     -73.954440   \n",
              "75%    4.327590e+07  7.400619e+10      40.762760     -73.932350   \n",
              "max    5.736742e+07  9.876313e+10      40.916970     -73.705220   \n",
              "\n",
              "       Construction year          price    service fee  minimum nights  \\\n",
              "count      102058.000000  102058.000000  102058.000000   102058.000000   \n",
              "mean         2012.487066     625.352300     125.039144        8.126291   \n",
              "std             5.759833     331.271053      66.237136       30.281670   \n",
              "min          2003.000000      50.000000      10.000000        1.000000   \n",
              "25%          2008.000000     341.000000      68.000000        2.000000   \n",
              "50%          2012.000000     624.000000     125.000000        3.000000   \n",
              "75%          2017.000000     912.000000     182.000000        5.000000   \n",
              "max          2022.000000    1200.000000     240.000000     5645.000000   \n",
              "\n",
              "       number of reviews  review rate number  calculated host listings count  \\\n",
              "count      102058.000000       102058.000000                   102058.000000   \n",
              "mean           27.481158            3.277862                        7.915254   \n",
              "std            49.534887            1.283174                       32.218215   \n",
              "min             0.000000            1.000000                        1.000000   \n",
              "25%             1.000000            2.000000                        1.000000   \n",
              "50%             7.000000            3.000000                        1.000000   \n",
              "75%            30.000000            4.000000                        2.000000   \n",
              "max          1024.000000            5.000000                      332.000000   \n",
              "\n",
              "       availability 365  \n",
              "count     102058.000000  \n",
              "mean         140.846264  \n",
              "std          135.164389  \n",
              "min          -10.000000  \n",
              "25%            3.000000  \n",
              "50%           96.000000  \n",
              "75%          268.000000  \n",
              "max         3677.000000  "
            ],
            "text/html": [
              "\n",
              "  <div id=\"df-0b7569cd-df42-4124-9b54-5070fbdcd83f\" class=\"colab-df-container\">\n",
              "    <div>\n",
              "<style scoped>\n",
              "    .dataframe tbody tr th:only-of-type {\n",
              "        vertical-align: middle;\n",
              "    }\n",
              "\n",
              "    .dataframe tbody tr th {\n",
              "        vertical-align: top;\n",
              "    }\n",
              "\n",
              "    .dataframe thead th {\n",
              "        text-align: right;\n",
              "    }\n",
              "</style>\n",
              "<table border=\"1\" class=\"dataframe\">\n",
              "  <thead>\n",
              "    <tr style=\"text-align: right;\">\n",
              "      <th></th>\n",
              "      <th>id</th>\n",
              "      <th>host id</th>\n",
              "      <th>lat</th>\n",
              "      <th>long</th>\n",
              "      <th>Construction year</th>\n",
              "      <th>price</th>\n",
              "      <th>service fee</th>\n",
              "      <th>minimum nights</th>\n",
              "      <th>number of reviews</th>\n",
              "      <th>review rate number</th>\n",
              "      <th>calculated host listings count</th>\n",
              "      <th>availability 365</th>\n",
              "    </tr>\n",
              "  </thead>\n",
              "  <tbody>\n",
              "    <tr>\n",
              "      <th>count</th>\n",
              "      <td>1.020580e+05</td>\n",
              "      <td>1.020580e+05</td>\n",
              "      <td>102058.000000</td>\n",
              "      <td>102058.000000</td>\n",
              "      <td>102058.000000</td>\n",
              "      <td>102058.000000</td>\n",
              "      <td>102058.000000</td>\n",
              "      <td>102058.000000</td>\n",
              "      <td>102058.000000</td>\n",
              "      <td>102058.000000</td>\n",
              "      <td>102058.000000</td>\n",
              "      <td>102058.000000</td>\n",
              "    </tr>\n",
              "    <tr>\n",
              "      <th>mean</th>\n",
              "      <td>2.918438e+07</td>\n",
              "      <td>4.926738e+10</td>\n",
              "      <td>40.728097</td>\n",
              "      <td>-73.949653</td>\n",
              "      <td>2012.487066</td>\n",
              "      <td>625.352300</td>\n",
              "      <td>125.039144</td>\n",
              "      <td>8.126291</td>\n",
              "      <td>27.481158</td>\n",
              "      <td>3.277862</td>\n",
              "      <td>7.915254</td>\n",
              "      <td>140.846264</td>\n",
              "    </tr>\n",
              "    <tr>\n",
              "      <th>std</th>\n",
              "      <td>1.627173e+07</td>\n",
              "      <td>2.853742e+10</td>\n",
              "      <td>0.055850</td>\n",
              "      <td>0.049500</td>\n",
              "      <td>5.759833</td>\n",
              "      <td>331.271053</td>\n",
              "      <td>66.237136</td>\n",
              "      <td>30.281670</td>\n",
              "      <td>49.534887</td>\n",
              "      <td>1.283174</td>\n",
              "      <td>32.218215</td>\n",
              "      <td>135.164389</td>\n",
              "    </tr>\n",
              "    <tr>\n",
              "      <th>min</th>\n",
              "      <td>1.001254e+06</td>\n",
              "      <td>1.236005e+08</td>\n",
              "      <td>40.499790</td>\n",
              "      <td>-74.249840</td>\n",
              "      <td>2003.000000</td>\n",
              "      <td>50.000000</td>\n",
              "      <td>10.000000</td>\n",
              "      <td>1.000000</td>\n",
              "      <td>0.000000</td>\n",
              "      <td>1.000000</td>\n",
              "      <td>1.000000</td>\n",
              "      <td>-10.000000</td>\n",
              "    </tr>\n",
              "    <tr>\n",
              "      <th>25%</th>\n",
              "      <td>1.509286e+07</td>\n",
              "      <td>2.459924e+10</td>\n",
              "      <td>40.688730</td>\n",
              "      <td>-73.982580</td>\n",
              "      <td>2008.000000</td>\n",
              "      <td>341.000000</td>\n",
              "      <td>68.000000</td>\n",
              "      <td>2.000000</td>\n",
              "      <td>1.000000</td>\n",
              "      <td>2.000000</td>\n",
              "      <td>1.000000</td>\n",
              "      <td>3.000000</td>\n",
              "    </tr>\n",
              "    <tr>\n",
              "      <th>50%</th>\n",
              "      <td>2.918438e+07</td>\n",
              "      <td>4.912865e+10</td>\n",
              "      <td>40.722290</td>\n",
              "      <td>-73.954440</td>\n",
              "      <td>2012.000000</td>\n",
              "      <td>624.000000</td>\n",
              "      <td>125.000000</td>\n",
              "      <td>3.000000</td>\n",
              "      <td>7.000000</td>\n",
              "      <td>3.000000</td>\n",
              "      <td>1.000000</td>\n",
              "      <td>96.000000</td>\n",
              "    </tr>\n",
              "    <tr>\n",
              "      <th>75%</th>\n",
              "      <td>4.327590e+07</td>\n",
              "      <td>7.400619e+10</td>\n",
              "      <td>40.762760</td>\n",
              "      <td>-73.932350</td>\n",
              "      <td>2017.000000</td>\n",
              "      <td>912.000000</td>\n",
              "      <td>182.000000</td>\n",
              "      <td>5.000000</td>\n",
              "      <td>30.000000</td>\n",
              "      <td>4.000000</td>\n",
              "      <td>2.000000</td>\n",
              "      <td>268.000000</td>\n",
              "    </tr>\n",
              "    <tr>\n",
              "      <th>max</th>\n",
              "      <td>5.736742e+07</td>\n",
              "      <td>9.876313e+10</td>\n",
              "      <td>40.916970</td>\n",
              "      <td>-73.705220</td>\n",
              "      <td>2022.000000</td>\n",
              "      <td>1200.000000</td>\n",
              "      <td>240.000000</td>\n",
              "      <td>5645.000000</td>\n",
              "      <td>1024.000000</td>\n",
              "      <td>5.000000</td>\n",
              "      <td>332.000000</td>\n",
              "      <td>3677.000000</td>\n",
              "    </tr>\n",
              "  </tbody>\n",
              "</table>\n",
              "</div>\n",
              "    <div class=\"colab-df-buttons\">\n",
              "\n",
              "  <div class=\"colab-df-container\">\n",
              "    <button class=\"colab-df-convert\" onclick=\"convertToInteractive('df-0b7569cd-df42-4124-9b54-5070fbdcd83f')\"\n",
              "            title=\"Convert this dataframe to an interactive table.\"\n",
              "            style=\"display:none;\">\n",
              "\n",
              "  <svg xmlns=\"http://www.w3.org/2000/svg\" height=\"24px\" viewBox=\"0 -960 960 960\">\n",
              "    <path d=\"M120-120v-720h720v720H120Zm60-500h600v-160H180v160Zm220 220h160v-160H400v160Zm0 220h160v-160H400v160ZM180-400h160v-160H180v160Zm440 0h160v-160H620v160ZM180-180h160v-160H180v160Zm440 0h160v-160H620v160Z\"/>\n",
              "  </svg>\n",
              "    </button>\n",
              "\n",
              "  <style>\n",
              "    .colab-df-container {\n",
              "      display:flex;\n",
              "      gap: 12px;\n",
              "    }\n",
              "\n",
              "    .colab-df-convert {\n",
              "      background-color: #E8F0FE;\n",
              "      border: none;\n",
              "      border-radius: 50%;\n",
              "      cursor: pointer;\n",
              "      display: none;\n",
              "      fill: #1967D2;\n",
              "      height: 32px;\n",
              "      padding: 0 0 0 0;\n",
              "      width: 32px;\n",
              "    }\n",
              "\n",
              "    .colab-df-convert:hover {\n",
              "      background-color: #E2EBFA;\n",
              "      box-shadow: 0px 1px 2px rgba(60, 64, 67, 0.3), 0px 1px 3px 1px rgba(60, 64, 67, 0.15);\n",
              "      fill: #174EA6;\n",
              "    }\n",
              "\n",
              "    .colab-df-buttons div {\n",
              "      margin-bottom: 4px;\n",
              "    }\n",
              "\n",
              "    [theme=dark] .colab-df-convert {\n",
              "      background-color: #3B4455;\n",
              "      fill: #D2E3FC;\n",
              "    }\n",
              "\n",
              "    [theme=dark] .colab-df-convert:hover {\n",
              "      background-color: #434B5C;\n",
              "      box-shadow: 0px 1px 3px 1px rgba(0, 0, 0, 0.15);\n",
              "      filter: drop-shadow(0px 1px 2px rgba(0, 0, 0, 0.3));\n",
              "      fill: #FFFFFF;\n",
              "    }\n",
              "  </style>\n",
              "\n",
              "    <script>\n",
              "      const buttonEl =\n",
              "        document.querySelector('#df-0b7569cd-df42-4124-9b54-5070fbdcd83f button.colab-df-convert');\n",
              "      buttonEl.style.display =\n",
              "        google.colab.kernel.accessAllowed ? 'block' : 'none';\n",
              "\n",
              "      async function convertToInteractive(key) {\n",
              "        const element = document.querySelector('#df-0b7569cd-df42-4124-9b54-5070fbdcd83f');\n",
              "        const dataTable =\n",
              "          await google.colab.kernel.invokeFunction('convertToInteractive',\n",
              "                                                    [key], {});\n",
              "        if (!dataTable) return;\n",
              "\n",
              "        const docLinkHtml = 'Like what you see? Visit the ' +\n",
              "          '<a target=\"_blank\" href=https://colab.research.google.com/notebooks/data_table.ipynb>data table notebook</a>'\n",
              "          + ' to learn more about interactive tables.';\n",
              "        element.innerHTML = '';\n",
              "        dataTable['output_type'] = 'display_data';\n",
              "        await google.colab.output.renderOutput(dataTable, element);\n",
              "        const docLink = document.createElement('div');\n",
              "        docLink.innerHTML = docLinkHtml;\n",
              "        element.appendChild(docLink);\n",
              "      }\n",
              "    </script>\n",
              "  </div>\n",
              "\n",
              "\n",
              "<div id=\"df-6a530b86-a9bc-4a12-afa1-acde5b286774\">\n",
              "  <button class=\"colab-df-quickchart\" onclick=\"quickchart('df-6a530b86-a9bc-4a12-afa1-acde5b286774')\"\n",
              "            title=\"Suggest charts\"\n",
              "            style=\"display:none;\">\n",
              "\n",
              "<svg xmlns=\"http://www.w3.org/2000/svg\" height=\"24px\"viewBox=\"0 0 24 24\"\n",
              "     width=\"24px\">\n",
              "    <g>\n",
              "        <path d=\"M19 3H5c-1.1 0-2 .9-2 2v14c0 1.1.9 2 2 2h14c1.1 0 2-.9 2-2V5c0-1.1-.9-2-2-2zM9 17H7v-7h2v7zm4 0h-2V7h2v10zm4 0h-2v-4h2v4z\"/>\n",
              "    </g>\n",
              "</svg>\n",
              "  </button>\n",
              "\n",
              "<style>\n",
              "  .colab-df-quickchart {\n",
              "      --bg-color: #E8F0FE;\n",
              "      --fill-color: #1967D2;\n",
              "      --hover-bg-color: #E2EBFA;\n",
              "      --hover-fill-color: #174EA6;\n",
              "      --disabled-fill-color: #AAA;\n",
              "      --disabled-bg-color: #DDD;\n",
              "  }\n",
              "\n",
              "  [theme=dark] .colab-df-quickchart {\n",
              "      --bg-color: #3B4455;\n",
              "      --fill-color: #D2E3FC;\n",
              "      --hover-bg-color: #434B5C;\n",
              "      --hover-fill-color: #FFFFFF;\n",
              "      --disabled-bg-color: #3B4455;\n",
              "      --disabled-fill-color: #666;\n",
              "  }\n",
              "\n",
              "  .colab-df-quickchart {\n",
              "    background-color: var(--bg-color);\n",
              "    border: none;\n",
              "    border-radius: 50%;\n",
              "    cursor: pointer;\n",
              "    display: none;\n",
              "    fill: var(--fill-color);\n",
              "    height: 32px;\n",
              "    padding: 0;\n",
              "    width: 32px;\n",
              "  }\n",
              "\n",
              "  .colab-df-quickchart:hover {\n",
              "    background-color: var(--hover-bg-color);\n",
              "    box-shadow: 0 1px 2px rgba(60, 64, 67, 0.3), 0 1px 3px 1px rgba(60, 64, 67, 0.15);\n",
              "    fill: var(--button-hover-fill-color);\n",
              "  }\n",
              "\n",
              "  .colab-df-quickchart-complete:disabled,\n",
              "  .colab-df-quickchart-complete:disabled:hover {\n",
              "    background-color: var(--disabled-bg-color);\n",
              "    fill: var(--disabled-fill-color);\n",
              "    box-shadow: none;\n",
              "  }\n",
              "\n",
              "  .colab-df-spinner {\n",
              "    border: 2px solid var(--fill-color);\n",
              "    border-color: transparent;\n",
              "    border-bottom-color: var(--fill-color);\n",
              "    animation:\n",
              "      spin 1s steps(1) infinite;\n",
              "  }\n",
              "\n",
              "  @keyframes spin {\n",
              "    0% {\n",
              "      border-color: transparent;\n",
              "      border-bottom-color: var(--fill-color);\n",
              "      border-left-color: var(--fill-color);\n",
              "    }\n",
              "    20% {\n",
              "      border-color: transparent;\n",
              "      border-left-color: var(--fill-color);\n",
              "      border-top-color: var(--fill-color);\n",
              "    }\n",
              "    30% {\n",
              "      border-color: transparent;\n",
              "      border-left-color: var(--fill-color);\n",
              "      border-top-color: var(--fill-color);\n",
              "      border-right-color: var(--fill-color);\n",
              "    }\n",
              "    40% {\n",
              "      border-color: transparent;\n",
              "      border-right-color: var(--fill-color);\n",
              "      border-top-color: var(--fill-color);\n",
              "    }\n",
              "    60% {\n",
              "      border-color: transparent;\n",
              "      border-right-color: var(--fill-color);\n",
              "    }\n",
              "    80% {\n",
              "      border-color: transparent;\n",
              "      border-right-color: var(--fill-color);\n",
              "      border-bottom-color: var(--fill-color);\n",
              "    }\n",
              "    90% {\n",
              "      border-color: transparent;\n",
              "      border-bottom-color: var(--fill-color);\n",
              "    }\n",
              "  }\n",
              "</style>\n",
              "\n",
              "  <script>\n",
              "    async function quickchart(key) {\n",
              "      const quickchartButtonEl =\n",
              "        document.querySelector('#' + key + ' button');\n",
              "      quickchartButtonEl.disabled = true;  // To prevent multiple clicks.\n",
              "      quickchartButtonEl.classList.add('colab-df-spinner');\n",
              "      try {\n",
              "        const charts = await google.colab.kernel.invokeFunction(\n",
              "            'suggestCharts', [key], {});\n",
              "      } catch (error) {\n",
              "        console.error('Error during call to suggestCharts:', error);\n",
              "      }\n",
              "      quickchartButtonEl.classList.remove('colab-df-spinner');\n",
              "      quickchartButtonEl.classList.add('colab-df-quickchart-complete');\n",
              "    }\n",
              "    (() => {\n",
              "      let quickchartButtonEl =\n",
              "        document.querySelector('#df-6a530b86-a9bc-4a12-afa1-acde5b286774 button');\n",
              "      quickchartButtonEl.style.display =\n",
              "        google.colab.kernel.accessAllowed ? 'block' : 'none';\n",
              "    })();\n",
              "  </script>\n",
              "</div>\n",
              "\n",
              "    </div>\n",
              "  </div>\n"
            ],
            "application/vnd.google.colaboratory.intrinsic+json": {
              "type": "dataframe",
              "summary": "{\n  \"name\": \"df\",\n  \"rows\": 8,\n  \"fields\": [\n    {\n      \"column\": \"id\",\n      \"properties\": {\n        \"dtype\": \"number\",\n        \"std\": 19920498.51737276,\n        \"min\": 102058.0,\n        \"max\": 57367417.0,\n        \"num_unique_values\": 8,\n        \"samples\": [\n          29184376.60000196,\n          29184376.5,\n          102058.0\n        ],\n        \"semantic_type\": \"\",\n        \"description\": \"\"\n      }\n    },\n    {\n      \"column\": \"host id\",\n      \"properties\": {\n        \"dtype\": \"number\",\n        \"std\": 34506703560.68929,\n        \"min\": 102058.0,\n        \"max\": 98763129024.0,\n        \"num_unique_values\": 8,\n        \"samples\": [\n          49267380568.7598,\n          49128650907.5,\n          102058.0\n        ],\n        \"semantic_type\": \"\",\n        \"description\": \"\"\n      }\n    },\n    {\n      \"column\": \"lat\",\n      \"properties\": {\n        \"dtype\": \"number\",\n        \"std\": 36070.61196850462,\n        \"min\": 0.055850273190965104,\n        \"max\": 102058.0,\n        \"num_unique_values\": 8,\n        \"samples\": [\n          40.72809695669394,\n          40.72229,\n          102058.0\n        ],\n        \"semantic_type\": \"\",\n        \"description\": \"\"\n      }\n    },\n    {\n      \"column\": \"long\",\n      \"properties\": {\n        \"dtype\": \"number\",\n        \"std\": 36105.372702016895,\n        \"min\": -74.24984,\n        \"max\": 102058.0,\n        \"num_unique_values\": 8,\n        \"samples\": [\n          -73.94965265856307,\n          -73.95444,\n          102058.0\n        ],\n        \"semantic_type\": \"\",\n        \"description\": \"\"\n      }\n    },\n    {\n      \"column\": \"Construction year\",\n      \"properties\": {\n        \"dtype\": \"number\",\n        \"std\": 35479.75693613093,\n        \"min\": 5.759832525925113,\n        \"max\": 102058.0,\n        \"num_unique_values\": 8,\n        \"samples\": [\n          2012.4870661780556,\n          2012.0,\n          102058.0\n        ],\n        \"semantic_type\": \"\",\n        \"description\": \"\"\n      }\n    },\n    {\n      \"column\": \"price\",\n      \"properties\": {\n        \"dtype\": \"number\",\n        \"std\": 35878.48648067866,\n        \"min\": 50.0,\n        \"max\": 102058.0,\n        \"num_unique_values\": 8,\n        \"samples\": [\n          625.3522996727351,\n          624.0,\n          102058.0\n        ],\n        \"semantic_type\": \"\",\n        \"description\": \"\"\n      }\n    },\n    {\n      \"column\": \"service fee\",\n      \"properties\": {\n        \"dtype\": \"number\",\n        \"std\": 36041.79492342995,\n        \"min\": 10.0,\n        \"max\": 102058.0,\n        \"num_unique_values\": 8,\n        \"samples\": [\n          125.03914440808168,\n          125.0,\n          102058.0\n        ],\n        \"semantic_type\": \"\",\n        \"description\": \"\"\n      }\n    },\n    {\n      \"column\": \"minimum nights\",\n      \"properties\": {\n        \"dtype\": \"number\",\n        \"std\": 35849.6458108627,\n        \"min\": 1.0,\n        \"max\": 102058.0,\n        \"num_unique_values\": 8,\n        \"samples\": [\n          8.126290932606949,\n          3.0,\n          102058.0\n        ],\n        \"semantic_type\": \"\",\n        \"description\": \"\"\n      }\n    },\n    {\n      \"column\": \"number of reviews\",\n      \"properties\": {\n        \"dtype\": \"number\",\n        \"std\": 36027.14271183185,\n        \"min\": 0.0,\n        \"max\": 102058.0,\n        \"num_unique_values\": 8,\n        \"samples\": [\n          27.481157773031022,\n          7.0,\n          102058.0\n        ],\n        \"semantic_type\": \"\",\n        \"description\": \"\"\n      }\n    },\n    {\n      \"column\": \"review rate number\",\n      \"properties\": {\n        \"dtype\": \"number\",\n        \"std\": 36081.963980886394,\n        \"min\": 1.0,\n        \"max\": 102058.0,\n        \"num_unique_values\": 8,\n        \"samples\": [\n          3.2778616081051952,\n          3.0,\n          102058.0\n        ],\n        \"semantic_type\": \"\",\n        \"description\": \"\"\n      }\n    },\n    {\n      \"column\": \"calculated host listings count\",\n      \"properties\": {\n        \"dtype\": \"number\",\n        \"std\": 36064.08408167465,\n        \"min\": 1.0,\n        \"max\": 102058.0,\n        \"num_unique_values\": 6,\n        \"samples\": [\n          102058.0,\n          7.915254071214408,\n          332.0\n        ],\n        \"semantic_type\": \"\",\n        \"description\": \"\"\n      }\n    },\n    {\n      \"column\": \"availability 365\",\n      \"properties\": {\n        \"dtype\": \"number\",\n        \"std\": 35887.13605142018,\n        \"min\": -10.0,\n        \"max\": 102058.0,\n        \"num_unique_values\": 8,\n        \"samples\": [\n          140.84626388916107,\n          96.0,\n          102058.0\n        ],\n        \"semantic_type\": \"\",\n        \"description\": \"\"\n      }\n    }\n  ]\n}"
            }
          },
          "metadata": {},
          "execution_count": 90
        }
      ],
      "source": [
        "# Data Summary\n",
        "df.describe()"
      ]
    },
    {
      "cell_type": "code",
      "execution_count": 91,
      "metadata": {
        "colab": {
          "base_uri": "https://localhost:8080/"
        },
        "id": "k4QPUNPf6_Pg",
        "outputId": "d144ebae-ead2-4c3b-ad67-f98a7e9c258a"
      },
      "outputs": [
        {
          "output_type": "stream",
          "name": "stdout",
          "text": [
            "                          Features  \\\n",
            "0                               id   \n",
            "1                             NAME   \n",
            "2                          host id   \n",
            "3           host_identity_verified   \n",
            "4                        host name   \n",
            "5              neighbourhood group   \n",
            "6                    neighbourhood   \n",
            "7                              lat   \n",
            "8                             long   \n",
            "9                          country   \n",
            "10                    country code   \n",
            "11                instant_bookable   \n",
            "12             cancellation_policy   \n",
            "13               Construction year   \n",
            "14                           price   \n",
            "15                  price_category   \n",
            "16                     service fee   \n",
            "17                  minimum nights   \n",
            "18               number of reviews   \n",
            "19              review rate number   \n",
            "20  calculated host listings count   \n",
            "21                availability 365   \n",
            "\n",
            "                                          Description    Scales  \\\n",
            "0                   Unique identifier for the listing   nominal   \n",
            "1                                 Name of the listing   nominal   \n",
            "2                      Unique identifier for the host   nominal   \n",
            "3   Whether the host identity is verified (e.g., v...   nominal   \n",
            "4                                    Name of the host   nominal   \n",
            "5   Group of neighborhoods (e.g., Brooklyn, Manhat...   nominal   \n",
            "6                Specific neighborhood of the listing   nominal   \n",
            "7                  Latitude coordinate of the listing  interval   \n",
            "8                 Longitude coordinate of the listing  interval   \n",
            "9                Country where the listing is located   nominal   \n",
            "10                        Country code of the listing   nominal   \n",
            "11  Whether instant booking is available (e.g., Tr...   nominal   \n",
            "12                Cancellation policy for the listing   nominal   \n",
            "13                  Year the property was constructed  interval   \n",
            "14                     Price of the listing per night     ratio   \n",
            "15  Price category based on quartiles (Low, Medium...   ordinal   \n",
            "16                      Service fee charged by Airbnb     ratio   \n",
            "17      Minimum number of nights required for booking     ratio   \n",
            "18            Total number of reviews for the listing     ratio   \n",
            "19        Average review score (on a scale of 1 to 5)   ordinal   \n",
            "20                    Number of listings the host has     ratio   \n",
            "21  Number of days the listing is available in a year     ratio   \n",
            "\n",
            "   Discrete/Continuous                         Range  \n",
            "0             discrete                    Unique IDs  \n",
            "1             discrete             Text descriptions  \n",
            "2             discrete                    Unique IDs  \n",
            "3             discrete         Verified, Unconfirmed  \n",
            "4             discrete                    Text names  \n",
            "5             discrete     Brooklyn, Manhattan, etc.  \n",
            "6             discrete   Specific neighborhood names  \n",
            "7           continuous         40.499790 - 40.916970  \n",
            "8           continuous       -74.249840 - -73.705220  \n",
            "9             discrete                 Country names  \n",
            "10            discrete                 Country codes  \n",
            "11            discrete                   True, False  \n",
            "12            discrete    Flexible, Moderate, Strict  \n",
            "13          continuous                   2003 - 2022  \n",
            "14          continuous                   $50 - $1200  \n",
            "15            discrete  Low, Medium, High, Very High  \n",
            "16          continuous                    $10 - $240  \n",
            "17            discrete                      1 - 5645  \n",
            "18            discrete                      0 - 1024  \n",
            "19            discrete                         1 - 5  \n",
            "20            discrete                       1 - 332  \n",
            "21            discrete                      0 - 3677  \n"
          ]
        }
      ],
      "source": [
        "# Create a DataFrame to describe the features\n",
        "data_des = pd.DataFrame()\n",
        "\n",
        "# Define the columns and their descriptions (including price_categories)\n",
        "data_des['Features'] = [\n",
        "    'id', 'NAME', 'host id', 'host_identity_verified', 'host name',\n",
        "    'neighbourhood group', 'neighbourhood', 'lat', 'long', 'country',\n",
        "    'country code', 'instant_bookable', 'cancellation_policy',\n",
        "    'Construction year', 'price', 'price_category', 'service fee',\n",
        "    'minimum nights', 'number of reviews', 'review rate number',\n",
        "    'calculated host listings count', 'availability 365'\n",
        "]\n",
        "\n",
        "data_des['Description'] = [\n",
        "    'Unique identifier for the listing',\n",
        "    'Name of the listing',\n",
        "    'Unique identifier for the host',\n",
        "    'Whether the host identity is verified (e.g., verified, unconfirmed)',\n",
        "    'Name of the host',\n",
        "    'Group of neighborhoods (e.g., Brooklyn, Manhattan)',\n",
        "    'Specific neighborhood of the listing',\n",
        "    'Latitude coordinate of the listing',\n",
        "    'Longitude coordinate of the listing',\n",
        "    'Country where the listing is located',\n",
        "    'Country code of the listing',\n",
        "    'Whether instant booking is available (e.g., True, False)',\n",
        "    'Cancellation policy for the listing',\n",
        "    'Year the property was constructed',\n",
        "    'Price of the listing per night',\n",
        "    'Price category based on quartiles (Low, Medium, High, Very High)',\n",
        "    'Service fee charged by Airbnb',\n",
        "    'Minimum number of nights required for booking',\n",
        "    'Total number of reviews for the listing',\n",
        "    'Average review score (on a scale of 1 to 5)',\n",
        "    'Number of listings the host has',\n",
        "    'Number of days the listing is available in a year'\n",
        "]\n",
        "\n",
        "# Define the scale of measurement for each feature\n",
        "data_des['Scales'] = [\n",
        "    'nominal', 'nominal', 'nominal', 'nominal', 'nominal', 'nominal', 'nominal',\n",
        "    'interval', 'interval', 'nominal', 'nominal', 'nominal', 'nominal', 'interval',\n",
        "    'ratio', 'ordinal', 'ratio', 'ratio', 'ratio', 'ordinal', 'ratio', 'ratio'\n",
        "]\n",
        "\n",
        "# Define whether each feature is discrete or continuous\n",
        "data_des['Discrete/Continuous'] = [\n",
        "    'discrete', 'discrete', 'discrete', 'discrete', 'discrete', 'discrete', 'discrete',\n",
        "    'continuous', 'continuous', 'discrete', 'discrete', 'discrete', 'discrete', 'continuous',\n",
        "    'continuous', 'discrete', 'continuous', 'discrete', 'discrete', 'discrete', 'discrete', 'discrete'\n",
        "]\n",
        "\n",
        "# Define the range or possible values for each feature\n",
        "data_des['Range'] = [\n",
        "    'Unique IDs', 'Text descriptions', 'Unique IDs', 'Verified, Unconfirmed', 'Text names',\n",
        "    'Brooklyn, Manhattan, etc.', 'Specific neighborhood names', '40.499790 - 40.916970',\n",
        "    '-74.249840 - -73.705220', 'Country names', 'Country codes', 'True, False',\n",
        "    'Flexible, Moderate, Strict', '2003 - 2022', '$50 - $1200', 'Low, Medium, High, Very High',\n",
        "    '$10 - $240', '1 - 5645', '0 - 1024', '1 - 5', '1 - 332', '0 - 3677'\n",
        "]\n",
        "\n",
        "# Display the DataFrame\n",
        "print(data_des)\n"
      ]
    },
    {
      "cell_type": "markdown",
      "source": [],
      "metadata": {
        "id": "N-ZO75etO6ex"
      }
    },
    {
      "cell_type": "markdown",
      "metadata": {
        "id": "QLXDPeO6_-CD"
      },
      "source": [
        "The table above shows the features description, scales, and range."
      ]
    },
    {
      "cell_type": "markdown",
      "source": [
        "The final dataset has 102,058 rows and 22 columns, including both numerical and categorical features. Important numerical features like price (average: \\$625.35, std: \\$331.27) and service fee (average: \\$125.04, std: \\$66.24) were cleaned and converted to numeric values, while missing values in categorical features were filled with the most common value. A new price_category variable was created, grouping prices into four levels: Low (\\$50–\\$341), Medium (\\$341–\\$624), High (\\$624–\\$912), and Very High (\\$912–\\$1200). Other features like latitude, longitude, and review ratings were standardized for better analysis. Columns with too many missing values, like license and house_rules, were removed to maintain data quality. The dataset is now ready for modeling."
      ],
      "metadata": {
        "id": "_U8l_fZdO5_P"
      }
    },
    {
      "cell_type": "markdown",
      "source": [
        "### Dividing Data"
      ],
      "metadata": {
        "id": "e8164_lanYGJ"
      }
    },
    {
      "cell_type": "code",
      "execution_count": 92,
      "metadata": {
        "colab": {
          "base_uri": "https://localhost:8080/"
        },
        "id": "itjpRA3ZAO2N",
        "outputId": "4f243db6-c1e3-468f-9bd2-d2fc7827ab33"
      },
      "outputs": [
        {
          "output_type": "stream",
          "name": "stdout",
          "text": [
            "Cross-validation scores: [0.97409675 0.94200502 0.94096393 0.94035152 0.94402597]\n",
            "Mean cross-validation accuracy: 0.9482886386581612\n"
          ]
        }
      ],
      "source": [
        "from sklearn.model_selection import train_test_split, cross_val_score\n",
        "from sklearn.linear_model import LogisticRegression\n",
        "from sklearn.preprocessing import StandardScaler, OneHotEncoder, LabelEncoder\n",
        "from sklearn.compose import ColumnTransformer\n",
        "from sklearn.pipeline import Pipeline\n",
        "import pandas as pd\n",
        "\n",
        "# Define features (X) and target (y)\n",
        "X = df.drop(columns=['price_category', 'price'])  # Remove both 'price' and 'price_category'\n",
        "y = df['price_category']\n",
        "\n",
        "# Split the data into 80% training and 20% testing sets\n",
        "X_train, X_test, y_train, y_test = train_test_split(X, y, test_size=0.2, random_state=42)\n",
        "\n",
        "# Convert all columns to numeric where possible, handling errors\n",
        "X_train = X_train.apply(pd.to_numeric, errors='coerce')\n",
        "X_test = X_test.apply(pd.to_numeric, errors='coerce')\n",
        "\n",
        "# Handle missing values\n",
        "X_train.fillna(0, inplace=True)\n",
        "X_test.fillna(0, inplace=True)\n",
        "\n",
        "# Encode target variable\n",
        "le = LabelEncoder()\n",
        "y_train = le.fit_transform(y_train.astype(str))\n",
        "y_test = le.transform(y_test.astype(str))\n",
        "\n",
        "# Identify categorical and numeric columns\n",
        "categorical_cols = X_train.select_dtypes(include=['object']).columns\n",
        "numeric_cols = X_train.select_dtypes(include=['int64', 'float64']).columns\n",
        "\n",
        "# Define preprocessing pipeline\n",
        "preprocessor = ColumnTransformer(\n",
        "    transformers=[\n",
        "        ('num', StandardScaler(), numeric_cols),  # Scale numeric features\n",
        "        ('cat', OneHotEncoder(handle_unknown='ignore'), categorical_cols)  # Encode categorical features\n",
        "    ]\n",
        ")\n",
        "\n",
        "# Create pipeline with preprocessing + model\n",
        "pipeline = Pipeline([\n",
        "    ('preprocessor', preprocessor),\n",
        "    ('classifier', LogisticRegression(max_iter=2000, class_weight='balanced'))\n",
        "])\n",
        "\n",
        "# Perform cross-validation\n",
        "cv_scores = cross_val_score(pipeline, X_train, y_train, cv=5, scoring='accuracy')\n",
        "\n",
        "# Print cross-validation results\n",
        "print(\"Cross-validation scores:\", cv_scores)\n",
        "print(\"Mean cross-validation accuracy:\", cv_scores.mean())\n"
      ]
    },
    {
      "cell_type": "markdown",
      "metadata": {
        "id": "GjILajC6Cxgy"
      },
      "source": [
        "The 80/20 split works well for this dataset because it gives the model enough data (80%) to learn from, while still leaving 20% for testing to see how well the model performs on new, unseen examples. It allows the model to capture the important patterns in features like the neighborhood, host info, and availability, while the test set helps ensure it won't overfit and can generalize. This approach provides a good balance between giving the model plenty of training data and checking how well it performs on data it hasn't seen before."
      ]
    },
    {
      "cell_type": "markdown",
      "source": [
        "# Modeling"
      ],
      "metadata": {
        "id": "beJ1po0Znfqw"
      }
    },
    {
      "cell_type": "markdown",
      "source": [
        "## Creating Classifier"
      ],
      "metadata": {
        "id": "FS7ia9wznkyv"
      }
    },
    {
      "cell_type": "code",
      "execution_count": null,
      "metadata": {
        "id": "ddfq3YqTg-sU"
      },
      "outputs": [],
      "source": [
        "import numpy as np\n",
        "\n",
        "# Base class for Binary Logistic Regression\n",
        "class BinaryLogisticRegressionBase:\n",
        "    def __init__(self, eta, iterations=20, solver='steepest', C=1.0, regularization=None):\n",
        "        self.eta = eta\n",
        "        self.iters = iterations\n",
        "        self.solver = solver\n",
        "        self.C = C\n",
        "        self.regularization = regularization\n",
        "\n",
        "    def __str__(self):\n",
        "        return 'Base Binary Logistic Regression Object, Not Trainable'\n",
        "\n",
        "    @staticmethod\n",
        "    def _sigmoid(theta):\n",
        "        theta = np.array(theta, dtype=np.float64)\n",
        "        return 1 / (1 + np.exp(-theta))\n",
        "\n",
        "    @staticmethod\n",
        "    def _add_intercept(X):\n",
        "        return np.hstack((np.ones((X.shape[0], 1)), X))\n",
        "\n",
        "    def _get_regularization_term(self):\n",
        "        if self.regularization == 'L1':\n",
        "            return self.C * np.sign(self.w_[1:])\n",
        "        elif self.regularization == 'L2':\n",
        "            return 2 * self.C * self.w_[1:]\n",
        "        elif self.regularization == 'L1L2':\n",
        "            return self.C * (np.sign(self.w_[1:]) + 2 * self.w_[1:])\n",
        "        else:\n",
        "            return np.zeros_like(self.w_[1:])\n",
        "\n",
        "    def predict_proba(self, X, add_intercept=True):\n",
        "        Xb = self._add_intercept(X) if add_intercept else X\n",
        "        return self._sigmoid(Xb @ self.w_).flatten()\n",
        "\n",
        "    def predict(self, X):\n",
        "        return (self.predict_proba(X) > 0.5).astype(int)\n",
        "\n",
        "# Subclass for Binary Logistic Regression\n",
        "class BinaryLogisticRegression(BinaryLogisticRegressionBase):\n",
        "    def __str__(self):\n",
        "        return f'Binary Logistic Regression (Trained: {hasattr(self, \"w_\")})'\n",
        "\n",
        "    @property\n",
        "    def coef_(self):\n",
        "        return self.w_[1:].flatten() if hasattr(self, 'w_') else None\n",
        "\n",
        "    @property\n",
        "    def intercept_(self):\n",
        "        return self.w_[0].item() if hasattr(self, 'w_') else None\n",
        "\n",
        "    def _get_gradient(self, X, y):\n",
        "        if np.isscalar(y):  # Stochastic Gradient\n",
        "            prediction = self.predict_proba(X.reshape(1, -1), add_intercept=False)\n",
        "            return (y - prediction) * X.reshape(-1, 1)\n",
        "        else:  # Batch Gradient\n",
        "            predictions = self.predict_proba(X, add_intercept=False)\n",
        "            errors = y - predictions\n",
        "            gradient = X.T @ errors.reshape(-1, 1) / len(y)  # FIXED: Removed negative sign\n",
        "            gradient[1:] -= self._get_regularization_term()  # FIXED: Subtract regularization\n",
        "            return gradient\n",
        "\n",
        "    def fit(self, X, y):\n",
        "        Xb = self._add_intercept(X)\n",
        "        num_samples, num_features = Xb.shape\n",
        "        self.w_ = np.zeros((num_features, 1))\n",
        "\n",
        "        if self.solver == 'steepest':\n",
        "            for _ in range(self.iters):\n",
        "                gradient = self._get_gradient(Xb, y)\n",
        "                self.w_ += self.eta * gradient\n",
        "        elif self.solver == 'stochastic':\n",
        "            for _ in range(self.iters):\n",
        "                for xi, yi in zip(Xb, y):\n",
        "                    gradient = self._get_gradient(xi.reshape(1, -1), yi)\n",
        "                    self.w_ += self.eta * gradient\n",
        "        elif self.solver == 'newton':\n",
        "            for _ in range(self.iters):\n",
        "                gradient = self._get_gradient(Xb, y)\n",
        "                probs = self.predict_proba(Xb, add_intercept=False)\n",
        "                hessian = Xb.T @ np.diag(probs * (1 - probs)) @ Xb\n",
        "                hessian_inv = np.linalg.inv(hessian + 1e-6 * np.eye(hessian.shape[0]))\n",
        "                self.w_ += self.eta * hessian_inv @ gradient\n",
        "\n",
        "# Multi-class Logistic Regression\n",
        "class LogisticRegression:\n",
        "    def __init__(self, eta, iterations=20, solver='steepest', C=1.0, regularization=None):\n",
        "        self.eta = eta\n",
        "        self.iters = iterations\n",
        "        self.solver = solver\n",
        "        self.C = C\n",
        "        self.regularization = regularization\n",
        "\n",
        "    def __str__(self):\n",
        "        return f'MultiClass Logistic Regression (Trained: {hasattr(self, \"w_\")})'\n",
        "\n",
        "    @property\n",
        "    def coef_(self):\n",
        "        return self.w_[:, 1:] if hasattr(self, 'w_') else None\n",
        "\n",
        "    @property\n",
        "    def intercept_(self):\n",
        "        return self.w_[:, 0] if hasattr(self, 'w_') else None\n",
        "\n",
        "    def fit(self, X, y):\n",
        "        self.classes_ = np.unique(y)\n",
        "        self.classifiers_ = []\n",
        "        for cls in self.classes_:\n",
        "            y_binary = (y == cls).astype(int)\n",
        "            blr = BinaryLogisticRegression(self.eta, self.iters, self.solver, self.C, self.regularization)\n",
        "            blr.fit(X, y_binary)\n",
        "            self.classifiers_.append(blr)\n",
        "        self.w_ = np.hstack([cls.w_ for cls in self.classifiers_])\n",
        "\n",
        "    def predict_proba(self, X):\n",
        "        return np.hstack([cls.predict_proba(X).reshape(-1, 1) for cls in self.classifiers_])\n",
        "\n",
        "    def predict(self, X):\n",
        "        return self.classes_[np.argmax(self.predict_proba(X), axis=1)]\n"
      ]
    },
    {
      "cell_type": "markdown",
      "metadata": {
        "id": "pYv1zgqFJVmp"
      },
      "source": [
        "The three classes above are provided by Professor Larson. The BinaryLogisticRegressionBase class serves as the foundation for the binary classification, providing methods for predicting probabilities, adding an intercept term, and applying regularization techniques such as L1, L2, or both. The BinaryLogisticRegression subclass inherits this base class by implementing three different optimization methods, steepest ascent, stochastic gradient ascent, and Newton's method—to train the model. The LogisticRegression class is designed for multi-class classification using the one-vs-all approach, where a separate binary logistic regression model is trained for each class. Regularization is controlled by the parameter C, which helps to prevent overfitting by penalizing large weights."
      ]
    },
    {
      "cell_type": "code",
      "execution_count": 93,
      "metadata": {
        "id": "MaK29iiwozDj"
      },
      "outputs": [],
      "source": [
        "import numpy as np\n",
        "from scipy.optimize import minimize\n",
        "import matplotlib.pyplot as plt\n",
        "from sklearn.preprocessing import StandardScaler\n",
        "from sklearn.metrics import accuracy_score\n",
        "\n",
        "class BinaryLogisticRegression:\n",
        "    def __init__(self, eta=0.01, iterations=20, solver='steepest', C=1.0, regularization=None):\n",
        "        self.eta = eta\n",
        "        self.iters = iterations\n",
        "        self.solver = solver\n",
        "        self.C = C\n",
        "        self.regularization = regularization\n",
        "\n",
        "    def _sigmoid(self, z):\n",
        "        z = np.array(z, dtype=np.float64)  # Ensure z is a NumPy array\n",
        "        z = np.clip(z, -500, 500)  # Prevent overflow by clipping extreme values\n",
        "        return 1 / (1 + np.exp(-z))\n",
        "\n",
        "    def _add_intercept(self, X):\n",
        "        return np.hstack((np.ones((X.shape[0], 1)), X))  # Add a column of ones for the intercept term\n",
        "\n",
        "    def _regularization_term(self, w):\n",
        "        # Regularization terms for L1, L2, or combined L1L2 regularization\n",
        "        if self.regularization == 'L1':\n",
        "            return self.C * np.sign(w)  # L1 regularization (sparsity-inducing)\n",
        "        elif self.regularization == 'L2':\n",
        "            return 2 * self.C * w  # L2 regularization (smoothing)\n",
        "        elif self.regularization == 'L1L2':\n",
        "            return self.C * (np.sign(w) + 2 * w)\n",
        "        else:\n",
        "            return np.zeros_like(w)  # No regularization\n",
        "\n",
        "    def _gradient(self, X, y, w):\n",
        "        predictions = self._sigmoid(X @ w)  # Compute predictions using the sigmoid function\n",
        "        error = y - predictions\n",
        "        grad = X.T @ error / len(y)\n",
        "        grad[1:] -= self._regularization_term(w[1:])  # Apply regularization to the gradient (excluding intercept)\n",
        "        return grad\n",
        "\n",
        "    def _hessian(self, X, w):\n",
        "        predictions = self._sigmoid(X @ w)  # Compute predictions\n",
        "        D = np.diag(predictions * (1 - predictions))\n",
        "        return X.T @ D @ X / len(X)\n",
        "\n",
        "    def fit(self, X, y):\n",
        "        Xb = self._add_intercept(X)\n",
        "        self.w_ = np.zeros(Xb.shape[1], dtype=np.float64)\n",
        "\n",
        "        if self.solver == 'steepest':\n",
        "            # Gradient Descent: Update weights using the gradient\n",
        "            for _ in range(self.iters):\n",
        "                grad = self._gradient(Xb, y, self.w_)\n",
        "                self.w_ += self.eta * grad  # Update weights using the learning rate (eta)\n",
        "\n",
        "        elif self.solver == 'stochastic':\n",
        "            # Stochastic Gradient Descent: Update weights using mini-batches\n",
        "            batch_size = min(32, len(y))  # Use mini-batches to speed up training\n",
        "            for _ in range(self.iters):\n",
        "                indices = np.random.permutation(len(y))\n",
        "                for i in range(0, len(y), batch_size):\n",
        "                    batch_indices = indices[i:i+batch_size]\n",
        "                    grad = self._gradient(Xb[batch_indices], y[batch_indices], self.w_)\n",
        "                    self.w_ += self.eta * grad  # Update weights for the mini-batch\n",
        "\n",
        "        elif self.solver == 'newton':\n",
        "            # Newton's Method: Use second-order optimization for faster convergence\n",
        "            for _ in range(min(10, self.iters)):  # Fewer iterations due to higher computational cost\n",
        "                grad = self._gradient(Xb, y, self.w_)\n",
        "                hess = self._hessian(Xb, self.w_)\n",
        "                self.w_ += np.linalg.solve(hess + 1e-6 * np.eye(hess.shape[0]), grad)\n",
        "\n",
        "    def predict_proba(self, X):\n",
        "        Xb = self._add_intercept(X)\n",
        "        return self._sigmoid(Xb @ self.w_)\n",
        "\n",
        "    def predict(self, X):\n",
        "        return (self.predict_proba(X) >= 0.5).astype(int)  # Convert probabilities to binary predictions\n",
        "\n",
        "class LogisticRegression:\n",
        "    def __init__(self, eta=0.01, iterations=20, solver='steepest', C=1.0, regularization=None):\n",
        "        self.eta = eta\n",
        "        self.iters = iterations\n",
        "        self.solver = solver\n",
        "        self.C = C\n",
        "        self.regularization = regularization\n",
        "\n",
        "    def fit(self, X, y):\n",
        "        self.classes_ = np.unique(y)  # Identify unique classes in the target variable\n",
        "        self.classifiers_ = []  # Store binary classifiers for each class\n",
        "\n",
        "        # Train a binary classifier for each class using One-vs-All strategy\n",
        "        for cls in self.classes_:\n",
        "            y_binary = (y == cls).astype(int)  # Convert to binary labels for the current class\n",
        "            model = BinaryLogisticRegression(self.eta, self.iters, self.solver, self.C, self.regularization)\n",
        "            model.fit(X, y_binary)  # Train the binary classifier\n",
        "            self.classifiers_.append(model)  # Store the trained classifier\n",
        "\n",
        "    def predict_proba(self, X):\n",
        "        # Stack predicted probabilities from all binary classifiers\n",
        "        return np.vstack([cls.predict_proba(X) for cls in self.classifiers_]).T\n",
        "\n",
        "    def predict(self, X):\n",
        "        # Predict the class with the highest probability\n",
        "        return self.classes_[np.argmax(self.predict_proba(X), axis=1)]"
      ]
    },
    {
      "cell_type": "markdown",
      "source": [
        "I developed a one-versus-all logistic regression classifier using NumPy and SciPy, designed to follow scikit-learn's object-oriented structure. I added support for selecting different optimization techniques—steepest ascent, stochastic gradient ascent, and Newton’s method—by specifying a \"solver\" parameter during model initialization. Additionally, I updated the gradient calculation to incorporate customizable regularization options (L1, L2, or both), with an adjustable regularization strength, \"C,\" for improved control over model complexity and generalization. I also modified the way probabilities are computed to ensure numerical stability and adjusted the decision boundary threshold to allow for greater flexibility in classification.\n",
        "\n",
        "\n",
        "\n",
        "\n",
        "\n",
        "\n",
        "\n"
      ],
      "metadata": {
        "id": "lwj3YNfVmvk4"
      }
    },
    {
      "cell_type": "markdown",
      "source": [
        "## Training"
      ],
      "metadata": {
        "id": "StXjHgHPnrIr"
      }
    },
    {
      "cell_type": "code",
      "execution_count": null,
      "metadata": {
        "colab": {
          "base_uri": "https://localhost:8080/",
          "height": 502
        },
        "id": "Vpz9D2lhQ9I9",
        "outputId": "b2965b53-1799-4f1f-864b-f9b7d7b433b1"
      },
      "outputs": [
        {
          "output_type": "display_data",
          "data": {
            "text/plain": [
              "<Figure size 600x400 with 1 Axes>"
            ],
            "image/png": "[encoded data removed]"
          },
          "metadata": {}
        },
        {
          "output_type": "stream",
          "name": "stdout",
          "text": [
            "\n",
            "Best C values for L2 Regularization:\n",
            "  Solver: steepest -> Best C: 0.001\n",
            "  Solver: stochastic -> Best C: 0.001\n",
            "  Solver: newton -> Best C: 0.0031622776601683794\n"
          ]
        }
      ],
      "source": [
        "import numpy as np\n",
        "import matplotlib.pyplot as plt\n",
        "from sklearn.model_selection import KFold\n",
        "from sklearn.metrics import accuracy_score\n",
        "from sklearn.preprocessing import StandardScaler\n",
        "\n",
        "# Define C values and solvers\n",
        "C_values = np.logspace(-3, -1, 5)  # Generates values between 0.001 and 0.1\n",
        "solvers = ['steepest', 'stochastic', 'newton']\n",
        "regularization = 'L2'  # Only L2\n",
        "\n",
        "# Limit data to 10,000 samples\n",
        "subset_size = min(5000, len(X_train))\n",
        "X_train_limited = np.array(X_train[:subset_size], dtype=np.float64)\n",
        "y_train_limited = np.array(y_train[:subset_size], dtype=np.float64)\n",
        "\n",
        "# Standardize the entire dataset before KFold\n",
        "scaler = StandardScaler()\n",
        "X_train_limited = scaler.fit_transform(X_train_limited)\n",
        "\n",
        "# Initialize KFold and results storage\n",
        "kf = KFold(n_splits=3, shuffle=True, random_state=42)\n",
        "results = {solver: [] for solver in solvers}\n",
        "best_C_values = {}\n",
        "\n",
        "for solver in solvers:\n",
        "    for C in C_values:\n",
        "        accuracies = []\n",
        "\n",
        "        for train_idx, test_idx in kf.split(X_train_limited):\n",
        "            # Split data\n",
        "            X_train_fold, X_test_fold = X_train_limited[train_idx], X_train_limited[test_idx]\n",
        "            y_train_fold, y_test_fold = y_train_limited[train_idx], y_train_limited[test_idx]\n",
        "\n",
        "            # Standardize each fold (optional, but already done earlier)\n",
        "            scaler_fold = StandardScaler()\n",
        "            X_train_fold = scaler_fold.fit_transform(X_train_fold)\n",
        "            X_test_fold = scaler_fold.transform(X_test_fold)\n",
        "\n",
        "            # Train model\n",
        "            model = LogisticRegression(eta=0.05, iterations=50, solver=solver, C=C, regularization=regularization)\n",
        "            model.fit(X_train_fold, y_train_fold)\n",
        "            y_pred = model.predict(X_test_fold)\n",
        "            accuracies.append(accuracy_score(y_test_fold, y_pred))\n",
        "\n",
        "        # Store results\n",
        "        results[solver].append(np.mean(accuracies))\n",
        "\n",
        "    # Determine best C for this solver\n",
        "    best_C_values[solver] = C_values[np.argmax(results[solver])]\n",
        "\n",
        "# Plot results for L2\n",
        "plt.figure(figsize=(6, 4))\n",
        "for solver, accuracies in results.items():\n",
        "    plt.plot(C_values, accuracies, marker='o', label=f'Solver: {solver}')\n",
        "\n",
        "plt.xscale('log')\n",
        "plt.xlabel('Regularization Parameter (C)')\n",
        "plt.ylabel('Average Accuracy')\n",
        "plt.title(f'Performance with {regularization} Regularization')\n",
        "plt.legend()\n",
        "plt.grid()\n",
        "plt.show()\n",
        "\n",
        "# Print best C values\n",
        "print(\"\\nBest C values for L2 Regularization:\")\n",
        "for solver, best_C in best_C_values.items():\n",
        "    print(f\"  Solver: {solver} -> Best C: {best_C}\")\n"
      ]
    },
    {
      "cell_type": "markdown",
      "source": [
        "This graph compares how well three different optimization methods (steepest, stochastic, and Newton) work for logistic regression with L2 regularization. The x-axis shows the regularization strength (C), and the y-axis represents the average accuracy across different training splits. The stochastic solver performed the best, maintaining around 80% accuracy, while the other two didn’t perform quite as well."
      ],
      "metadata": {
        "id": "dIZV3txLLA4X"
      }
    },
    {
      "cell_type": "code",
      "source": [
        "regularization = 'L1'  # Only L1\n",
        "results = {solver: [] for solver in solvers}\n",
        "best_C_values = {}\n",
        "\n",
        "for solver in solvers:\n",
        "    for C in C_values:\n",
        "        accuracies = []\n",
        "        for train_idx, test_idx in kf.split(X_train_limited):\n",
        "            X_train_fold, X_test_fold = X_train_limited[train_idx], X_train_limited[test_idx]\n",
        "            y_train_fold, y_test_fold = y_train_limited[train_idx], y_train_limited[test_idx]\n",
        "\n",
        "            model = LogisticRegression(eta=0.05, iterations=50, solver=solver, C=C, regularization=regularization)\n",
        "            model.fit(X_train_fold, y_train_fold)\n",
        "            y_pred = model.predict(X_test_fold)\n",
        "            accuracies.append(accuracy_score(y_test_fold, y_pred))\n",
        "\n",
        "        results[solver].append(np.mean(accuracies))\n",
        "\n",
        "    best_C_values[solver] = C_values[np.argmax(results[solver])]\n",
        "\n",
        "# Plot results for L1\n",
        "plt.figure(figsize=(6, 4))\n",
        "for solver, accuracies in results.items():\n",
        "    plt.plot(C_values, accuracies, marker='o', label=f'Solver: {solver}')\n",
        "\n",
        "plt.xscale('log')\n",
        "plt.xlabel('Regularization Parameter (C)')\n",
        "plt.ylabel('Average Accuracy')\n",
        "plt.title(f'Performance with {regularization} Regularization')\n",
        "plt.legend()\n",
        "plt.grid()\n",
        "plt.show()\n",
        "\n",
        "print(\"\\nBest C values for L1 Regularization:\")\n",
        "for solver, best_C in best_C_values.items():\n",
        "    print(f\"  Solver: {solver} -> Best C: {best_C}\")\n"
      ],
      "metadata": {
        "colab": {
          "base_uri": "https://localhost:8080/",
          "height": 502
        },
        "id": "C_0PXdpiffqd",
        "outputId": "f697fd79-e175-4c14-873b-b0fe8408090e"
      },
      "execution_count": null,
      "outputs": [
        {
          "output_type": "display_data",
          "data": {
            "text/plain": [
              "<Figure size 600x400 with 1 Axes>"
            ],
            "image/png": "[encoded data removed]"
          },
          "metadata": {}
        },
        {
          "output_type": "stream",
          "name": "stdout",
          "text": [
            "\n",
            "Best C values for L1 Regularization:\n",
            "  Solver: steepest -> Best C: 0.001\n",
            "  Solver: stochastic -> Best C: 0.01\n",
            "  Solver: newton -> Best C: 0.001\n"
          ]
        }
      ]
    },
    {
      "cell_type": "markdown",
      "source": [
        "This graph compares how well three different optimization methods (steepest, stochastic, and Newton) work for logistic regression with L1 regularization. Unlike the previous graph, Newton has the highest accuracy despite being less cosistenc accross C values."
      ],
      "metadata": {
        "id": "xilvhuWYLa_T"
      }
    },
    {
      "cell_type": "code",
      "source": [
        "regularization = 'L1L2'  # Only L1L2\n",
        "results = {solver: [] for solver in solvers}\n",
        "best_C_values = {}\n",
        "\n",
        "for solver in solvers:\n",
        "    for C in C_values:\n",
        "        accuracies = []\n",
        "        for train_idx, test_idx in kf.split(X_train_limited):\n",
        "            X_train_fold, X_test_fold = X_train_limited[train_idx], X_train_limited[test_idx]\n",
        "            y_train_fold, y_test_fold = y_train_limited[train_idx], y_train_limited[test_idx]\n",
        "\n",
        "            model = LogisticRegression(eta=0.05, iterations=50, solver=solver, C=C, regularization=regularization)\n",
        "            model.fit(X_train_fold, y_train_fold)\n",
        "            y_pred = model.predict(X_test_fold)\n",
        "            accuracies.append(accuracy_score(y_test_fold, y_pred))\n",
        "\n",
        "        results[solver].append(np.mean(accuracies))\n",
        "\n",
        "    best_C_values[solver] = C_values[np.argmax(results[solver])]\n",
        "\n",
        "# Plot results for L1L2\n",
        "plt.figure(figsize=(6, 4))\n",
        "for solver, accuracies in results.items():\n",
        "    plt.plot(C_values, accuracies, marker='o', label=f'Solver: {solver}')\n",
        "\n",
        "plt.xscale('log')\n",
        "plt.xlabel('Regularization Parameter (C)')\n",
        "plt.ylabel('Average Accuracy')\n",
        "plt.title(f'Performance with {regularization} Regularization')\n",
        "plt.legend()\n",
        "plt.grid()\n",
        "plt.show()\n",
        "\n",
        "print(\"\\nBest C values for L1L2 Regularization:\")\n",
        "for solver, best_C in best_C_values.items():\n",
        "    print(f\"  Solver: {solver} -> Best C: {best_C}\")\n"
      ],
      "metadata": {
        "colab": {
          "base_uri": "https://localhost:8080/",
          "height": 502
        },
        "id": "2oeZw1WRgwvf",
        "outputId": "1c67a864-09f1-4742-d473-efa10c280ae2"
      },
      "execution_count": null,
      "outputs": [
        {
          "output_type": "display_data",
          "data": {
            "text/plain": [
              "<Figure size 600x400 with 1 Axes>"
            ],
            "image/png": "[encoded data removed]"
          },
          "metadata": {}
        },
        {
          "output_type": "stream",
          "name": "stdout",
          "text": [
            "\n",
            "Best C values for L1L2 Regularization:\n",
            "  Solver: steepest -> Best C: 0.001\n",
            "  Solver: stochastic -> Best C: 0.001\n",
            "  Solver: newton -> Best C: 0.001\n"
          ]
        }
      ]
    },
    {
      "cell_type": "markdown",
      "source": [
        "This graph compares how well three different optimization methods (steepest, stochastic, and Newton) work for logistic regression with L1L2 regularization. The newton method in this graph also has the highes percentage despite being less consistent accross C values."
      ],
      "metadata": {
        "id": "HQzmKaPiLpgO"
      }
    },
    {
      "cell_type": "code",
      "source": [
        "import time\n",
        "from sklearn.model_selection import KFold\n",
        "\n",
        "# Set the chosen hyperparameters\n",
        "solver = 'newton'\n",
        "regularization = 'L1'\n",
        "C = 0.001\n",
        "\n",
        "accuracies = []\n",
        "start_time = time.time()\n",
        "\n",
        "for train_idx, test_idx in kf.split(X_train_limited):\n",
        "    X_train_fold, X_test_fold = X_train_limited[train_idx], X_train_limited[test_idx]\n",
        "    y_train_fold, y_test_fold = y_train_limited[train_idx], y_train_limited[test_idx]\n",
        "\n",
        "    model = LogisticRegression(eta=0.05, iterations=50, solver=solver, C=C, regularization=regularization)\n",
        "    model.fit(X_train_fold, y_train_fold)\n",
        "    y_pred = model.predict(X_test_fold)\n",
        "    accuracies.append(accuracy_score(y_test_fold, y_pred))\n",
        "\n",
        "end_time = time.time()\n",
        "\n",
        "# Compute final results\n",
        "avg_accuracy = np.mean(accuracies)\n",
        "execution_time = end_time - start_time\n",
        "\n",
        "# Output results\n",
        "print(f\"Average Accuracy with Newton's Method (L1, C={C}): {avg_accuracy:.4f}\")\n",
        "print(f\"Execution Time: {execution_time:.2f} seconds\")\n"
      ],
      "metadata": {
        "colab": {
          "base_uri": "https://localhost:8080/"
        },
        "id": "6xi74F0YwNB5",
        "outputId": "d734c5f2-aea6-40d5-894d-3652d453a13b"
      },
      "execution_count": 105,
      "outputs": [
        {
          "output_type": "stream",
          "name": "stdout",
          "text": [
            "Average Accuracy with Newton's Method (L1, C=0.001): 0.9298\n",
            "Execution Time: 11.45 seconds\n"
          ]
        }
      ]
    },
    {
      "cell_type": "markdown",
      "metadata": {
        "id": "OGL3s_2Nt6lQ"
      },
      "source": [
        "While optimizing my classifier for the best performance on my test set, I kept having to tweak three key factors: the learning rate (η), the regularization strength (C), and the subset size with the number of iterations.\n",
        "\n",
        "The most challenging part was adjusting the subset size and iteration count since running the program on my machine took a long time, which slowed down productivity. After a lot of trial and error, I settled on 50 iterations as a balance between runtime and accuracy.\n",
        "\n",
        "For the learning rate, I tested different values before finding that 0.05 consistently gave me the best results. As for the C value, I initially noticed that 0.01 worked best, so I narrowed the range to 0–1. This helped me find the optimal C value for Newton’s method, which turned out to be 0.001.\n",
        "\n",
        "In the end, using L1 regularization with Newton’s method gave me the best performance, achieving 92% accuracy. I believe my method of selecting parameters is justified, as I systematically tested different values and adjusted ranges based on observed performance trends rather than tuning them directly to fit the test set. While there is always a risk of unintentional data snooping, I mitigated this by relying solely on the validation set for parameter selection and only evaluating final accuracy on the test set."
      ]
    },
    {
      "cell_type": "markdown",
      "source": [
        "## Comparison"
      ],
      "metadata": {
        "id": "Z48FX9Dyx5rq"
      }
    },
    {
      "cell_type": "code",
      "source": [
        "from sklearn.linear_model import LogisticRegression as SklearnLogisticRegression\n",
        "\n",
        "# Custom Logistic Regression Implementation\n",
        "solver = 'newton'\n",
        "regularization = 'L1'\n",
        "C = 0.001\n",
        "accuracies = []\n",
        "start_time = time.time()\n",
        "\n",
        "for train_idx, test_idx in kf.split(X_train_limited):\n",
        "    X_train_fold, X_test_fold = X_train_limited[train_idx], X_train_limited[test_idx]\n",
        "    y_train_fold, y_test_fold = y_train_limited[train_idx], y_train_limited[test_idx]\n",
        "\n",
        "    model = LogisticRegression(eta=0.05, iterations=50, solver=solver, C=C, regularization=regularization)\n",
        "    model.fit(X_train_fold, y_train_fold)\n",
        "    y_pred = model.predict(X_test_fold)\n",
        "    accuracies.append(accuracy_score(y_test_fold, y_pred))\n",
        "\n",
        "end_time = time.time()\n",
        "avg_accuracy_custom = np.mean(accuracies)\n",
        "execution_time_custom = end_time - start_time\n",
        "\n",
        "# Scikit-Learn Logistic Regression Implementation\n",
        "scaler = StandardScaler()\n",
        "X_train_scaled = scaler.fit_transform(X_train)\n",
        "X_test_scaled = scaler.transform(X_test)\n",
        "\n",
        "start_time_sklearn = time.time()\n",
        "sklearn_model = SklearnLogisticRegression(penalty='l1', C=1.0, solver='saga', max_iter=1000, random_state=42)\n",
        "sklearn_model.fit(X_train_scaled, y_train)\n",
        "y_pred_sklearn = sklearn_model.predict(X_test_scaled)\n",
        "accuracy_sklearn = accuracy_score(y_test, y_pred_sklearn)\n",
        "execution_time_sklearn = time.time() - start_time_sklearn\n",
        "\n",
        "# Print Results\n",
        "print(f\"Custom Logistic Regression - Accuracy: {avg_accuracy_custom:.4f}, Execution Time: {execution_time_custom:.2f} sec\")\n",
        "print(f\"Scikit-Learn Logistic Regression - Accuracy: {accuracy_sklearn:.4f}, Execution Time: {execution_time_sklearn:.2f} sec\")\n",
        "\n",
        "import matplotlib.pyplot as plt\n",
        "\n",
        "# Data for plotting\n",
        "models = ['Custom Logistic Regression', 'Scikit-Learn Logistic Regression']\n",
        "accuracies = [avg_accuracy_custom, accuracy_sklearn]\n",
        "execution_times = [execution_time_custom, execution_time_sklearn]\n",
        "\n",
        "# Plotting Accuracy Comparison\n",
        "plt.figure(figsize=(10, 5))\n",
        "plt.bar(models, accuracies, color=['blue', 'orange'])\n",
        "plt.title('Accuracy Comparison')\n",
        "plt.ylabel('Accuracy')\n",
        "plt.ylim(0, 1.0)\n",
        "for i, v in enumerate(accuracies):\n",
        "    plt.text(i, v + 0.02, f\"{v:.4f}\", ha='center', va='bottom')\n",
        "plt.show()\n",
        "\n",
        "# Plotting Execution Time Comparison\n",
        "plt.figure(figsize=(10, 5))\n",
        "plt.bar(models, execution_times, color=['blue', 'orange'])\n",
        "plt.title('Execution Time Comparison')\n",
        "plt.ylabel('Execution Time (seconds)')\n",
        "for i, v in enumerate(execution_times):\n",
        "    plt.text(i, v + 0.02, f\"{v:.2f}\", ha='center', va='bottom')\n",
        "plt.show()"
      ],
      "metadata": {
        "colab": {
          "base_uri": "https://localhost:8080/",
          "height": 988
        },
        "id": "b2l4k0mU8QOV",
        "outputId": "b4ac6bec-eb0d-46fc-e8ee-8c2211cf1351"
      },
      "execution_count": 96,
      "outputs": [
        {
          "output_type": "stream",
          "name": "stdout",
          "text": [
            "Custom Logistic Regression - Accuracy: 0.9298, Execution Time: 17.92 sec\n",
            "Scikit-Learn Logistic Regression - Accuracy: 0.9911, Execution Time: 140.61 sec\n"
          ]
        },
        {
          "output_type": "stream",
          "name": "stderr",
          "text": [
            "/usr/local/lib/python3.11/dist-packages/sklearn/linear_model/_sag.py:348: ConvergenceWarning: The max_iter was reached which means the coef_ did not converge\n",
            "  warnings.warn(\n"
          ]
        },
        {
          "output_type": "display_data",
          "data": {
            "text/plain": [
              "<Figure size 1000x500 with 1 Axes>"
            ],
            "image/png": "[encoded data removed]"
          },
          "metadata": {}
        },
        {
          "output_type": "display_data",
          "data": {
            "text/plain": [
              "<Figure size 1000x500 with 1 Axes>"
            ],
            "image/png": "[encoded data removed]"
          },
          "metadata": {}
        }
      ]
    },
    {
      "cell_type": "markdown",
      "source": [
        "The custom logistic regression model runs way faster (17.92s) but isn’t as accurate (92.98%) as Scikit-Learn’s, which takes a lot longer (140.61s) but gets a better accuracy (99.11%). This likely comes down to Scikit-Learn using more advanced optimization methods that take extra time to fine-tune the model."
      ],
      "metadata": {
        "id": "3ughep58FqDN"
      }
    },
    {
      "cell_type": "markdown",
      "source": [
        "# Deployment:"
      ],
      "metadata": {
        "id": "32bl42msFvGt"
      }
    },
    {
      "cell_type": "markdown",
      "source": [
        "When it comes to picking the model, I think that it depends on what you want to prioritize. If speed is the main concern and you still need decent accuracy, the custom implementation is a good choice as far as i've seen based on this assignment. But if accuracy is the top priority and you can afford a longer processing time, Scikit-Learn is going to be the correct choice. While I could probably improve my model with more tweaking, Scikit-Learn has been optimized over time to consistently deliver high accuracy, making it the more reliable option for most real-world applications."
      ],
      "metadata": {
        "id": "_ZreoIcCGoA0"
      }
    },
    {
      "cell_type": "markdown",
      "source": [
        "# Exceptional Work"
      ],
      "metadata": {
        "id": "WMHjW7CWHJ9n"
      }
    },
    {
      "cell_type": "code",
      "source": [
        "from itertools import combinations\n",
        "from sklearn.base import BaseEstimator, ClassifierMixin\n",
        "import numpy as np\n",
        "\n",
        "class OneVsOneLogisticRegression(BaseEstimator, ClassifierMixin):\n",
        "    def __init__(self, eta=0.01, iterations=20, solver='steepest', C=1.0, regularization=None):\n",
        "        self.eta = eta\n",
        "        self.iters = iterations\n",
        "        self.solver = solver\n",
        "        self.C = C\n",
        "        self.regularization = regularization\n",
        "        self.classifiers = {}  # Stores classifiers for each pair of classes\n",
        "        self.classes_ = None\n",
        "\n",
        "    def fit(self, X, y):\n",
        "        self.classes_ = np.unique(y)\n",
        "        self.classifiers = {}\n",
        "\n",
        "        # Train a binary classifier for each pair of classes\n",
        "        for (cls1, cls2) in combinations(self.classes_, 2):\n",
        "            # Filter data for the current pair of classes\n",
        "            pair_mask = np.isin(y, [cls1, cls2])\n",
        "            X_pair = X[pair_mask]\n",
        "            y_pair = y[pair_mask]\n",
        "\n",
        "            # Convert to binary labels\n",
        "            y_binary = (y_pair == cls1).astype(int)\n",
        "\n",
        "            # Train a binary logistic regression model\n",
        "            model = BinaryLogisticRegression(\n",
        "                eta=self.eta,\n",
        "                iterations=self.iters,\n",
        "                solver=self.solver,\n",
        "                C=self.C,\n",
        "                regularization=self.regularization\n",
        "            )\n",
        "            model.fit(X_pair, y_binary)\n",
        "\n",
        "            # Store the trained model\n",
        "            self.classifiers[(cls1, cls2)] = model\n",
        "\n",
        "    def predict(self, X):\n",
        "        # Initialize a matrix to store votes for each class\n",
        "        votes = np.zeros((X.shape[0], len(self.classes_)))\n",
        "\n",
        "        # For each pair of classes, make predictions and update votes\n",
        "        for (cls1, cls2), model in self.classifiers.items():\n",
        "            preds = model.predict(X)\n",
        "            votes[preds == 1, np.where(self.classes_ == cls1)[0][0]] += 1\n",
        "            votes[preds == 0, np.where(self.classes_ == cls2)[0][0]] += 1\n",
        "\n",
        "        # Predict the class with the most votes\n",
        "        return self.classes_[np.argmax(votes, axis=1)]"
      ],
      "metadata": {
        "id": "sy87kArpHPs1"
      },
      "execution_count": 102,
      "outputs": []
    },
    {
      "cell_type": "markdown",
      "source": [
        "The OneVsOneLogisticRegression class was designed to implement the One-vs-One (OvO) approach for multi-class classification, where we train a binary logistic regression model for every pair of classes. We decided to add this method because it often performs better than One-vs-All (OvA) in scenarios where the relationships between classes are complex or the dataset is imbalanced. While it does require more computational effort due to the increased number of models, the trade-off is worth it for the improved accuracy, as it focuses on distinguishing between two classes at a time and uses a voting mechanism to determine the final prediction.\n",
        "\n"
      ],
      "metadata": {
        "id": "5wjs3VQ8JqpL"
      }
    },
    {
      "cell_type": "code",
      "source": [
        "# Custom Logistic Regression Implementation (One-vs-One)\n",
        "solver = 'newton'\n",
        "regularization = 'L1'\n",
        "C = 0.001\n",
        "accuracies = []\n",
        "start_time = time.time()\n",
        "\n",
        "for train_idx, test_idx in kf.split(X_train_limited):\n",
        "    X_train_fold, X_test_fold = X_train_limited[train_idx], X_train_limited[test_idx]\n",
        "    y_train_fold, y_test_fold = y_train_limited[train_idx], y_train_limited[test_idx]\n",
        "\n",
        "    model = OneVsOneLogisticRegression(eta=0.05, iterations=50, solver=solver, C=C, regularization=regularization)\n",
        "    model.fit(X_train_fold, y_train_fold)\n",
        "    y_pred = model.predict(X_test_fold)\n",
        "    accuracies.append(accuracy_score(y_test_fold, y_pred))\n",
        "\n",
        "end_time = time.time()\n",
        "avg_accuracy_custom = np.mean(accuracies)\n",
        "execution_time_custom = end_time - start_time\n",
        "\n",
        "# Print Results\n",
        "print(f\"Custom Logistic Regression (One-vs-One) - Accuracy: {avg_accuracy_custom:.4f}, Execution Time: {execution_time_custom:.2f} sec\")"
      ],
      "metadata": {
        "colab": {
          "base_uri": "https://localhost:8080/"
        },
        "id": "5h6PBEHbITB0",
        "outputId": "9781ead6-1e5c-4de6-c996-a1aeeaeb885e"
      },
      "execution_count": 107,
      "outputs": [
        {
          "output_type": "stream",
          "name": "stdout",
          "text": [
            "Custom Logistic Regression (One-vs-One) - Accuracy: 0.8918, Execution Time: 6.02 sec\n"
          ]
        }
      ]
    },
    {
      "cell_type": "markdown",
      "source": [
        "The custom One-vs-One Logistic Regression model achieved an accuracy of 89.18%, taking 6.02 seconds to run. This shows that the One-vs-One (OvO) approach works well for this dataset, as it breaks down the problem into simpler, pairwise comparisons between classes, which can lead to better results. Overall, it’s a solid option for multi-class classification challenges.\n",
        "\n"
      ],
      "metadata": {
        "id": "8AcfN6DpKc9E"
      }
    }
  ],
  "metadata": {
    "colab": {
      "provenance": []
    },
    "kernelspec": {
      "display_name": "Python 3",
      "name": "python3"
    },
    "language_info": {
      "name": "python"
    }
  },
  "nbformat": 4,
  "nbformat_minor": 0
}